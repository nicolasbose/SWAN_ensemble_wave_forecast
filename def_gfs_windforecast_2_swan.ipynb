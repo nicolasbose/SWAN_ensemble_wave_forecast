{
 "cells": [
  {
   "cell_type": "code",
   "execution_count": 1,
   "metadata": {},
   "outputs": [],
   "source": [
    "def def_wind_GFS_forecast(forecast_time, plot_map):\n",
    "\n",
    "    import numpy as np\n",
    "    import matplotlib.pyplot as plt\n",
    "    import xarray as xr\n",
    "    import os, glob\n",
    "    from scipy.io import loadmat\n",
    "    import pandas as pd \n",
    "    import datetime\n",
    "    import utm\n",
    "    import cfgrib\n",
    "\n",
    "\n",
    "    n = 105\n",
    "    \n",
    "    time_0 = forecast_time \n",
    "    time = pd.date_range(time_0, periods=n, freq='3H')\n",
    "    time_forecast = time.format(formatter=lambda x: x.strftime('%Y%m%d.%H%M'))\n",
    "\n",
    "    paths_input= '/Volumes/Benitez/buoy_AU/noaa_forecast/noaa_wave_ensemble/ensemble_2021_11_07/wind_gfs/gfs_'\n",
    "    time_paths = []\n",
    "    time_p = time[0]\n",
    "    \n",
    "    nn=4\n",
    "\n",
    "    for i in range(0,nn):\n",
    "        a = time_p + datetime.timedelta(i)\n",
    "        b = a.strftime('%Y%m%d')\n",
    "        time_paths.append(paths_input+b)\n",
    "\n",
    "    \n",
    "    gfs = {}\n",
    "\n",
    "    for t in range(0,nn):\n",
    "        os.chdir(time_paths[t])\n",
    "        if t < nn-1:\n",
    "            prev_fore = sorted(glob.glob(os.path.join('gfs_forecast_*.grb2')))[:8]\n",
    "            gfs[\"gfs\"+str(t)] = xr.concat((xr.open_dataset(file, engine = 'cfgrib') for file in prev_fore),dim = 'time')\n",
    "        else:\n",
    "            prev_fore = sorted(glob.glob(os.path.join('gfs_forecast_*.grb2')))\n",
    "            gfs[\"gfs\"+str(t)] = xr.concat((xr.open_dataset(file, engine = 'cfgrib') for file in prev_fore),dim = 'time')\n",
    "\n",
    "    gfs_forecast = xr.concat((gfs['gfs'+str(j)] for j in range(0,nn)), dim='time')    \n",
    "\n",
    "\n",
    "    u_wind = gfs_forecast['u10'].values\n",
    "    v_wind = gfs_forecast['v10'].values\n",
    "\n",
    "\n",
    "    ## Escrevendo Vento input SWAN em STRING\n",
    "\n",
    "    time_wind = 'gfs_forecast_'+forecast_time+'.wnd'\n",
    "\n",
    "    paths_ouput = '/Volumes/Benitez/buoy_AU/noaa_forecast/noaa_wave_ensemble/ensemble_2021_11_07/wind_gfs/'\n",
    "    os.chdir(paths_ouput)\n",
    "\n",
    "\n",
    "    file = open(time_wind,'w')\n",
    "    for t in range(len(time_forecast)):\n",
    "        file.write(time_forecast[t])\n",
    "        file.write('''\n",
    "''')\n",
    "        file.close()\n",
    "        file = open(time_wind,'a+')\n",
    "        file.write(pd.DataFrame(u_wind[t][:][:]).to_string(index=False, header=False, justify='justify', float_format='%7.3f'))\n",
    "        file.write('''\n",
    "''')\n",
    "        file.write(pd.DataFrame(v_wind[t][:][:]).to_string(index=False, header=False, justify='justify', float_format='%7.3f'))\n",
    "        file.write('''\n",
    "''')\n",
    "    \n",
    "    file = open(time_wind,\"rt\")\n",
    "    data = file.read()\n",
    "    data = data.replace('NaN','0')\n",
    "    file.close()\n",
    "    file = open(time_wind,\"wt\")\n",
    "    file.write(data)\n",
    "    file.close()\n",
    "   \n",
    "\n",
    "    if plot_map:\n",
    "        \n",
    "        paths_map = '/Volumes/Benitez/buoy_AU/noaa_forecast/'\n",
    "        os.chdir(paths_map)\n",
    "        ## Carregando Grid do swan\n",
    "        x = loadmat('grid_Au.mat')\n",
    "        \n",
    "        lon = gfs_forecast.longitude.values\n",
    "        lat = gfs_forecast.latitude.values\n",
    "        \n",
    "        lat_swan = x['Yp'].T\n",
    "        lon_swan = x['Xp'].T\n",
    "        \n",
    "        grid_utm = utm.from_latlon(lat,lon,56,'H')\n",
    "        lat_gfs_utm = grid_utm[1]\n",
    "        lon_gfs_utm = grid_utm[0]\n",
    "        \n",
    "        plt.contourf(lon_gfs_utm,lat_gfs_utm,gfs_forecast['u10'][17])\n",
    "        plt.scatter(lon_swan,lat_swan)\n",
    "        plt.scatter(lon_gfs_utm[0],lat_gfs_utm[0])\n",
    "        print(lon_gfs_utm[0],lat_gfs_utm[0],lat.shape,lon.shape)"
   ]
  },
  {
   "cell_type": "code",
   "execution_count": 2,
   "metadata": {},
   "outputs": [
    {
     "name": "stdout",
     "output_type": "stream",
     "text": [
      "60877.58463941852 5782371.756590582 (33,) (33,)\n"
     ]
    },
    {
     "data": {
      "image/png": "[encoded data removed]",
      "text/plain": [
       "<Figure size 432x288 with 1 Axes>"
      ]
     },
     "metadata": {
      "needs_background": "light"
     },
     "output_type": "display_data"
    }
   ],
   "source": [
    "forecast_time = '20211203'\n",
    "def_wind_GFS_forecast(forecast_time, True)"
   ]
  },
  {
   "cell_type": "code",
   "execution_count": 48,
   "metadata": {},
   "outputs": [
    {
     "data": {
      "text/plain": [
       "(33,)"
      ]
     },
     "execution_count": 48,
     "metadata": {},
     "output_type": "execute_result"
    }
   ],
   "source": []
  },
  {
   "cell_type": "code",
   "execution_count": null,
   "metadata": {},
   "outputs": [],
   "source": []
  }
 ],
 "metadata": {
  "kernelspec": {
   "display_name": "Python 3",
   "language": "python",
   "name": "python3"
  },
  "language_info": {
   "codemirror_mode": {
    "name": "ipython",
    "version": 3
   },
   "file_extension": ".py",
   "mimetype": "text/x-python",
   "name": "python",
   "nbconvert_exporter": "python",
   "pygments_lexer": "ipython3",
   "version": "3.8.8"
  }
 },
 "nbformat": 4,
 "nbformat_minor": 4
}
